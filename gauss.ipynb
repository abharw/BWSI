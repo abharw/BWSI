{
 "cells": [
  {
   "cell_type": "code",
   "execution_count": 1,
   "metadata": {},
   "outputs": [],
   "source": [
    "import pickle\n",
    "import pandas\n",
    "data = pickle.load( open( \"gauss_data.p\", \"rb\" ) )"
   ]
  },
  {
   "cell_type": "code",
   "execution_count": 2,
   "metadata": {},
   "outputs": [
    {
     "data": {
      "text/html": [
       "<div>\n",
       "<style scoped>\n",
       "    .dataframe tbody tr th:only-of-type {\n",
       "        vertical-align: middle;\n",
       "    }\n",
       "\n",
       "    .dataframe tbody tr th {\n",
       "        vertical-align: top;\n",
       "    }\n",
       "\n",
       "    .dataframe thead th {\n",
       "        text-align: right;\n",
       "    }\n",
       "</style>\n",
       "<table border=\"1\" class=\"dataframe\">\n",
       "  <thead>\n",
       "    <tr style=\"text-align: right;\">\n",
       "      <th></th>\n",
       "      <th>dist_0</th>\n",
       "      <th>dist_1</th>\n",
       "      <th>dist_2</th>\n",
       "      <th>dist_3</th>\n",
       "      <th>dist_4</th>\n",
       "      <th>dist_5</th>\n",
       "    </tr>\n",
       "  </thead>\n",
       "  <tbody>\n",
       "    <tr>\n",
       "      <th>0</th>\n",
       "      <td>6.398750</td>\n",
       "      <td>-12.924829</td>\n",
       "      <td>3.818315</td>\n",
       "      <td>19.287197</td>\n",
       "      <td>4.330135</td>\n",
       "      <td>-100.341771</td>\n",
       "    </tr>\n",
       "    <tr>\n",
       "      <th>1</th>\n",
       "      <td>4.675996</td>\n",
       "      <td>-12.375784</td>\n",
       "      <td>2.331401</td>\n",
       "      <td>19.632544</td>\n",
       "      <td>-1.439021</td>\n",
       "      <td>-90.225477</td>\n",
       "    </tr>\n",
       "    <tr>\n",
       "      <th>2</th>\n",
       "      <td>5.627294</td>\n",
       "      <td>-11.822885</td>\n",
       "      <td>2.576670</td>\n",
       "      <td>19.239539</td>\n",
       "      <td>4.055282</td>\n",
       "      <td>-95.718027</td>\n",
       "    </tr>\n",
       "    <tr>\n",
       "      <th>3</th>\n",
       "      <td>5.403728</td>\n",
       "      <td>-12.499533</td>\n",
       "      <td>3.164076</td>\n",
       "      <td>17.543545</td>\n",
       "      <td>-0.142891</td>\n",
       "      <td>-83.090755</td>\n",
       "    </tr>\n",
       "    <tr>\n",
       "      <th>4</th>\n",
       "      <td>3.313659</td>\n",
       "      <td>-11.923530</td>\n",
       "      <td>3.960696</td>\n",
       "      <td>18.497255</td>\n",
       "      <td>-1.793503</td>\n",
       "      <td>-95.984501</td>\n",
       "    </tr>\n",
       "  </tbody>\n",
       "</table>\n",
       "</div>"
      ],
      "text/plain": [
       "     dist_0     dist_1    dist_2     dist_3    dist_4      dist_5\n",
       "0  6.398750 -12.924829  3.818315  19.287197  4.330135 -100.341771\n",
       "1  4.675996 -12.375784  2.331401  19.632544 -1.439021  -90.225477\n",
       "2  5.627294 -11.822885  2.576670  19.239539  4.055282  -95.718027\n",
       "3  5.403728 -12.499533  3.164076  17.543545 -0.142891  -83.090755\n",
       "4  3.313659 -11.923530  3.960696  18.497255 -1.793503  -95.984501"
      ]
     },
     "execution_count": 2,
     "metadata": {},
     "output_type": "execute_result"
    }
   ],
   "source": [
    "data.head()"
   ]
  },
  {
   "cell_type": "code",
   "execution_count": 7,
   "metadata": {},
   "outputs": [
    {
     "name": "stdout",
     "output_type": "stream",
     "text": [
      "4.979292999206296\n",
      "-11.999397286849158\n",
      "3.00141634152999\n",
      "17.9460902064001\n",
      "0.2190414380072319\n",
      "-99.9546670256619\n"
     ]
    }
   ],
   "source": [
    "for col in data.columns:\n",
    "    dist = data[col]\n",
    "    N = len(dist)\n",
    "    s = sum(dist)\n",
    "    u = (1/N)*s\n",
    "    print(u)"
   ]
  },
  {
   "cell_type": "code",
   "execution_count": 18,
   "metadata": {},
   "outputs": [
    {
     "name": "stdout",
     "output_type": "stream",
     "text": [
      "0.9956790413330158\n",
      "0.9976851594443338\n",
      "0.947341874619163\n",
      "3.720039074519146\n",
      "14.007807960718548\n",
      "103.23397252336476\n"
     ]
    }
   ],
   "source": [
    "for col in data.columns:\n",
    "    dist = data[col]\n",
    "    N = len(dist)\n",
    "    s = sum(dist)\n",
    "    u = (1/N)*s\n",
    "    sp = sum([(x - u)**2 for x in dist])\n",
    "    o = (1/(N-1))*sp\n",
    "    print(o)"
   ]
  },
  {
   "cell_type": "code",
   "execution_count": null,
   "metadata": {},
   "outputs": [],
   "source": []
  }
 ],
 "metadata": {
  "kernelspec": {
   "display_name": "base",
   "language": "python",
   "name": "python3"
  },
  "language_info": {
   "codemirror_mode": {
    "name": "ipython",
    "version": 3
   },
   "file_extension": ".py",
   "mimetype": "text/x-python",
   "name": "python",
   "nbconvert_exporter": "python",
   "pygments_lexer": "ipython3",
   "version": "3.9.13"
  },
  "orig_nbformat": 4
 },
 "nbformat": 4,
 "nbformat_minor": 2
}
