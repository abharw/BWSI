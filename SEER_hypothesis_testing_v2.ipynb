{
 "cells": [
  {
   "cell_type": "markdown",
   "metadata": {},
   "source": [
    "# SEER Breast Cancer Analysis\n",
    "\n",
    "In this notebook, we will conduct several analyses using the data in the SEER breast cancer data set.  You will practice fitting distributions and conducting hypothesis tests.\n",
    "\n",
    "As before, we will stratify our data to mimic the analysis in \"Breast Cancer Stage Variation and Survival in Association With Insurance Status and Sociodemographic Factors in US Women 18 to 64 Years Old\" by Hsu, et. al (2017). [Link to Full Paper.](http://rdcu.be/Gdvp/)\n",
    "\n",
    "The code here is provided for your convenience, but you are not required to use it.  "
   ]
  },
  {
   "cell_type": "code",
   "execution_count": 1,
   "metadata": {},
   "outputs": [],
   "source": [
    "import pandas as pd\n",
    "from os import path\n",
    "import numpy as np\n",
    "import matplotlib.pyplot as plt\n",
    "from read_seer_data import SEER_reader\n",
    "from scipy import stats\n",
    "%matplotlib inline "
   ]
  },
  {
   "cell_type": "markdown",
   "metadata": {},
   "source": [
    "# Load data into dataframe\n",
    "We've moved all the data-loading into a python script read_seer_data.py to make this notebook a little less congested."
   ]
  },
  {
   "cell_type": "code",
   "execution_count": 2,
   "metadata": {},
   "outputs": [
    {
     "ename": "FileNotFoundError",
     "evalue": "[Errno 2] No such file or directory: 'YOUR SEER DATA DIRECTORY/SEER_1973_2015_TEXTDATA/incidence/yr1973_2015.seer9/BREAST.txt'",
     "output_type": "error",
     "traceback": [
      "\u001b[1;31m---------------------------------------------------------------------------\u001b[0m",
      "\u001b[1;31mFileNotFoundError\u001b[0m                         Traceback (most recent call last)",
      "\u001b[1;32m~\\AppData\\Local\\Temp\\ipykernel_36576\\4106957320.py\u001b[0m in \u001b[0;36m<module>\u001b[1;34m\u001b[0m\n\u001b[0;32m      4\u001b[0m \u001b[1;31m# Read the file, filter data and add columns\u001b[0m\u001b[1;33m\u001b[0m\u001b[1;33m\u001b[0m\u001b[0m\n\u001b[0;32m      5\u001b[0m \u001b[0mseer_data\u001b[0m \u001b[1;33m=\u001b[0m \u001b[0mSEER_reader\u001b[0m\u001b[1;33m(\u001b[0m\u001b[1;33m)\u001b[0m\u001b[1;33m\u001b[0m\u001b[1;33m\u001b[0m\u001b[0m\n\u001b[1;32m----> 6\u001b[1;33m \u001b[0mseer_data\u001b[0m\u001b[1;33m.\u001b[0m\u001b[0mload_seer\u001b[0m\u001b[1;33m(\u001b[0m\u001b[0mtxt_file\u001b[0m\u001b[1;33m)\u001b[0m\u001b[1;33m\u001b[0m\u001b[1;33m\u001b[0m\u001b[0m\n\u001b[0m\u001b[0;32m      7\u001b[0m \u001b[0mseer_data\u001b[0m\u001b[1;33m.\u001b[0m\u001b[0mfilter_table_mod4\u001b[0m\u001b[1;33m(\u001b[0m\u001b[1;33m)\u001b[0m\u001b[1;33m\u001b[0m\u001b[1;33m\u001b[0m\u001b[0m\n\u001b[0;32m      8\u001b[0m \u001b[0mseer_data\u001b[0m\u001b[1;33m.\u001b[0m\u001b[0mencode_data_mod4\u001b[0m\u001b[1;33m(\u001b[0m\u001b[1;33m)\u001b[0m\u001b[1;33m\u001b[0m\u001b[1;33m\u001b[0m\u001b[0m\n",
      "\u001b[1;32mc:\\Users\\aravb\\OneDrive\\Desktop\\BWSI\\read_seer_data.py\u001b[0m in \u001b[0;36mload_seer\u001b[1;34m(self, seer_file)\u001b[0m\n\u001b[0;32m     12\u001b[0m \u001b[1;33m\u001b[0m\u001b[0m\n\u001b[0;32m     13\u001b[0m         \u001b[1;31m# open and read the file containing the data\u001b[0m\u001b[1;33m\u001b[0m\u001b[1;33m\u001b[0m\u001b[0m\n\u001b[1;32m---> 14\u001b[1;33m         \u001b[0mcsvfile\u001b[0m \u001b[1;33m=\u001b[0m \u001b[0mopen\u001b[0m\u001b[1;33m(\u001b[0m\u001b[0mseer_file\u001b[0m\u001b[1;33m)\u001b[0m\u001b[1;33m\u001b[0m\u001b[1;33m\u001b[0m\u001b[0m\n\u001b[0m\u001b[0;32m     15\u001b[0m         \u001b[0mreader\u001b[0m \u001b[1;33m=\u001b[0m \u001b[0mcsv\u001b[0m\u001b[1;33m.\u001b[0m\u001b[0mreader\u001b[0m\u001b[1;33m(\u001b[0m\u001b[0mcsvfile\u001b[0m\u001b[1;33m)\u001b[0m\u001b[1;33m\u001b[0m\u001b[1;33m\u001b[0m\u001b[0m\n\u001b[0;32m     16\u001b[0m \u001b[1;33m\u001b[0m\u001b[0m\n",
      "\u001b[1;31mFileNotFoundError\u001b[0m: [Errno 2] No such file or directory: 'YOUR SEER DATA DIRECTORY/SEER_1973_2015_TEXTDATA/incidence/yr1973_2015.seer9/BREAST.txt'"
     ]
    }
   ],
   "source": [
    "# This is the file we want to use\n",
    "txt_file = 'YOUR SEER DATA DIRECTORY/SEER_1973_2015_TEXTDATA/incidence/yr1973_2015.seer9/BREAST.txt'\n",
    "\n",
    "# Read the file, filter data and add columns\n",
    "seer_data = SEER_reader()\n",
    "seer_data.load_seer(txt_file)\n",
    "seer_data.filter_table_mod4()\n",
    "seer_data.encode_data_mod4()\n",
    "seer_data.dropna()\n",
    "\n",
    "table = seer_data.get_table()\n",
    "records = seer_data.get_records()\n",
    "\n",
    "# look at the top 5 rows of the dataframe\n",
    "table.head(5)"
   ]
  },
  {
   "cell_type": "markdown",
   "metadata": {},
   "source": [
    "## Visualize the Data\n",
    "\n",
    "Here we will see how breast cancer survival is distributed across different stages at cancer diagnosis."
   ]
  },
  {
   "cell_type": "code",
   "execution_count": null,
   "metadata": {
    "scrolled": false
   },
   "outputs": [],
   "source": [
    "factor = 'Cancer Stage Num'\n",
    "response = 'Survival months'\n",
    "\n",
    "# identify the covariate strata within the data\n",
    "vals = np.unique(table[factor].values)\n",
    "    \n",
    "factors = dict()\n",
    "for v in vals:\n",
    "    factors[v] = table[table[factor] == v][response].values\n",
    "    \n",
    "# plot approximate distributions using violinplot\n",
    "plt.figure(figsize=(15, 10))\n",
    "ax = plt.subplot(111)\n",
    "plt.violinplot([f for k,f in factors.items()], \n",
    "               positions=range(len(vals)),showmeans=True,showextrema=False)\n",
    "\n",
    "xlabels=[records[factor]['codes'][v] for v in vals]\n",
    "ax.set_xticks(range(len(vals)))\n",
    "ax.set_xticklabels(xlabels)\n",
    "ax.set_ylabel(response)\n",
    "ax.set_title(factor)\n",
    "plt.show()"
   ]
  },
  {
   "cell_type": "markdown",
   "metadata": {},
   "source": [
    "# Distribution Fitting\n",
    "Use [SciPy](https://docs.scipy.org/doc/scipy/reference/stats.html) to fit the data to continuous distributions"
   ]
  },
  {
   "cell_type": "markdown",
   "metadata": {},
   "source": [
    "## Distribution A\n",
    "Fit Stage I breast cancer survival to a [normal](https://docs.scipy.org/doc/scipy/reference/generated/scipy.stats.norm.html) distribution"
   ]
  },
  {
   "cell_type": "code",
   "execution_count": null,
   "metadata": {},
   "outputs": [],
   "source": [
    "# STUDENT CODE GOES HERE \n"
   ]
  },
  {
   "cell_type": "markdown",
   "metadata": {},
   "source": [
    "## Distribution B\n",
    "Fit Stage II breast cancer survival to a [triangle](https://docs.scipy.org/doc/scipy/reference/generated/scipy.stats.triang.html) distribution"
   ]
  },
  {
   "cell_type": "code",
   "execution_count": null,
   "metadata": {},
   "outputs": [],
   "source": [
    "# STUDENT CODE GOES HERE \n"
   ]
  },
  {
   "cell_type": "markdown",
   "metadata": {},
   "source": [
    "## Distribution C\n",
    "Fit Stage IV breast cancer survival to a [beta](https://docs.scipy.org/doc/scipy/reference/generated/scipy.stats.beta.html) distribution"
   ]
  },
  {
   "cell_type": "code",
   "execution_count": null,
   "metadata": {},
   "outputs": [],
   "source": [
    "# STUDENT CODE GOES HERE \n"
   ]
  },
  {
   "cell_type": "markdown",
   "metadata": {},
   "source": [
    "# -------------------------------------------------------------"
   ]
  },
  {
   "cell_type": "markdown",
   "metadata": {},
   "source": [
    "# Hypothesis Testing\n",
    "Use [SciPy](https://docs.scipy.org/doc/scipy/reference/stats.html#statistical-functions) to test for different hypotheses.  \n",
    "\n",
    "Note that the Student's t-test and F-test assume normality of the data (which ours is not).  These would not be appropriate hypothesis tests to use for this data, but for the purpose of practice, don't worry about it for now."
   ]
  },
  {
   "cell_type": "markdown",
   "metadata": {},
   "source": [
    "## Hypothesis A\n",
    "\n",
    "* $H_1=$ Survival for patients diagnosed with Stage I and Stage II have different expected values (means)\n",
    "* $H_0=$ The means are the same for Stage I and Stage II \n",
    "* (Use a [Student's t-test](https://docs.scipy.org/doc/scipy/reference/generated/scipy.stats.ttest_ind.html))\n"
   ]
  },
  {
   "cell_type": "code",
   "execution_count": null,
   "metadata": {},
   "outputs": [],
   "source": [
    "# STUDENT CODE GOES HERE \n"
   ]
  },
  {
   "cell_type": "markdown",
   "metadata": {},
   "source": [
    "## Hypothesis B\n",
    "\n",
    "*  $H_1=$ Survival for patients diagnosed with Stage I and Stage II have different variances\n",
    "*  $H_0=$ The variances are the same for Stage I and Stage II\n",
    "*  (Use an [F-test](https://docs.scipy.org/doc/scipy/reference/generated/scipy.stats.f_oneway.html))\n",
    "\n",
    "\n"
   ]
  },
  {
   "cell_type": "code",
   "execution_count": null,
   "metadata": {},
   "outputs": [],
   "source": [
    "# STUDENT CODE GOES HERE \n"
   ]
  },
  {
   "cell_type": "markdown",
   "metadata": {},
   "source": [
    "## Hypothesis C\n",
    "\n",
    "*  $H_1=$ The distributions of survival for patients diagnosed with Stage I and Stage II are different\n",
    "*  $H_0=$ The distributions are the same\n",
    "*  (Use a two-sided [Kolmogorov-Smirnov Test](https://docs.scipy.org/doc/scipy/reference/generated/scipy.stats.ks_2samp.html))\n"
   ]
  },
  {
   "cell_type": "code",
   "execution_count": null,
   "metadata": {},
   "outputs": [],
   "source": [
    "# STUDENT CODE GOES HERE \n"
   ]
  },
  {
   "cell_type": "markdown",
   "metadata": {},
   "source": [
    "## Hypothesis D\n",
    "\n",
    "*  $H_1=$ The distributions of survival for patients diagnosed with Stage II and Stage III are different\n",
    "*  $H_0=$ The distributions are the same\n",
    "*  (Use a two-sided [Kolmogorov-Smirnov Test](https://docs.scipy.org/doc/scipy/reference/generated/scipy.stats.ks_2samp.html))\n"
   ]
  },
  {
   "cell_type": "code",
   "execution_count": null,
   "metadata": {},
   "outputs": [],
   "source": [
    "# STUDENT CODE GOES HERE \n"
   ]
  }
 ],
 "metadata": {
  "kernelspec": {
   "display_name": "Python 3",
   "language": "python",
   "name": "python3"
  },
  "language_info": {
   "codemirror_mode": {
    "name": "ipython",
    "version": 3
   },
   "file_extension": ".py",
   "mimetype": "text/x-python",
   "name": "python",
   "nbconvert_exporter": "python",
   "pygments_lexer": "ipython3",
   "version": "3.9.13"
  }
 },
 "nbformat": 4,
 "nbformat_minor": 2
}
